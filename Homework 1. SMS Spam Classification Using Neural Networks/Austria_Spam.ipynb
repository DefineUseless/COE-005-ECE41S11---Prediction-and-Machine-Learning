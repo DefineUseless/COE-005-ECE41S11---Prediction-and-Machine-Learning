{
 "cells": [
  {
   "cell_type": "code",
   "execution_count": 1,
   "id": "a5a19a6d",
   "metadata": {
    "_cell_guid": "b1076dfc-b9ad-4769-8c92-a6c4dae69d19",
    "_uuid": "8f2839f25d086af736a60e9eeb907d3b93b6e0e5",
    "execution": {
     "iopub.execute_input": "2022-02-14T07:56:50.333098Z",
     "iopub.status.busy": "2022-02-14T07:56:50.332768Z",
     "iopub.status.idle": "2022-02-14T07:56:52.343813Z",
     "shell.execute_reply": "2022-02-14T07:56:52.343033Z",
     "shell.execute_reply.started": "2022-02-14T07:56:50.333047Z"
    }
   },
   "outputs": [],
   "source": [
    "import numpy as np # numerical computing \n",
    "import pandas as pd # data analysis, working with DataFrames\n",
    "import matplotlib.pyplot as plt # visualizations\n",
    "import seaborn as sns # visulizations ++\n",
    "import tensorflow as tf # our main library, deep learning modellign\n",
    "from tensorflow import keras # keras library\n",
    "from tensorflow.keras import layers # for creating layers"
   ]
  },
  {
   "cell_type": "code",
   "execution_count": 2,
   "id": "c60ec1c1",
   "metadata": {
    "execution": {
     "iopub.execute_input": "2022-02-14T07:56:52.349153Z",
     "iopub.status.busy": "2022-02-14T07:56:52.348704Z",
     "iopub.status.idle": "2022-02-14T07:56:52.369697Z",
     "shell.execute_reply": "2022-02-14T07:56:52.368959Z",
     "shell.execute_reply.started": "2022-02-14T07:56:52.349117Z"
    }
   },
   "outputs": [],
   "source": [
    "df = pd.read_csv(\"spam.csv\", encoding=\"latin-1\") # reading data"
   ]
  },
  {
   "cell_type": "code",
   "execution_count": 3,
   "id": "27955fe6",
   "metadata": {
    "execution": {
     "iopub.execute_input": "2022-02-14T07:56:52.371679Z",
     "iopub.status.busy": "2022-02-14T07:56:52.371471Z",
     "iopub.status.idle": "2022-02-14T07:56:52.389113Z",
     "shell.execute_reply": "2022-02-14T07:56:52.388448Z",
     "shell.execute_reply.started": "2022-02-14T07:56:52.371654Z"
    }
   },
   "outputs": [
    {
     "data": {
      "text/html": [
       "<div>\n",
       "<style scoped>\n",
       "    .dataframe tbody tr th:only-of-type {\n",
       "        vertical-align: middle;\n",
       "    }\n",
       "\n",
       "    .dataframe tbody tr th {\n",
       "        vertical-align: top;\n",
       "    }\n",
       "\n",
       "    .dataframe thead th {\n",
       "        text-align: right;\n",
       "    }\n",
       "</style>\n",
       "<table border=\"1\" class=\"dataframe\">\n",
       "  <thead>\n",
       "    <tr style=\"text-align: right;\">\n",
       "      <th></th>\n",
       "      <th>v1</th>\n",
       "      <th>v2</th>\n",
       "      <th>Unnamed: 2</th>\n",
       "      <th>Unnamed: 3</th>\n",
       "      <th>Unnamed: 4</th>\n",
       "    </tr>\n",
       "  </thead>\n",
       "  <tbody>\n",
       "    <tr>\n",
       "      <th>0</th>\n",
       "      <td>ham</td>\n",
       "      <td>Go until jurong point, crazy.. Available only ...</td>\n",
       "      <td>NaN</td>\n",
       "      <td>NaN</td>\n",
       "      <td>NaN</td>\n",
       "    </tr>\n",
       "    <tr>\n",
       "      <th>1</th>\n",
       "      <td>ham</td>\n",
       "      <td>Ok lar... Joking wif u oni...</td>\n",
       "      <td>NaN</td>\n",
       "      <td>NaN</td>\n",
       "      <td>NaN</td>\n",
       "    </tr>\n",
       "    <tr>\n",
       "      <th>2</th>\n",
       "      <td>spam</td>\n",
       "      <td>Free entry in 2 a wkly comp to win FA Cup fina...</td>\n",
       "      <td>NaN</td>\n",
       "      <td>NaN</td>\n",
       "      <td>NaN</td>\n",
       "    </tr>\n",
       "    <tr>\n",
       "      <th>3</th>\n",
       "      <td>ham</td>\n",
       "      <td>U dun say so early hor... U c already then say...</td>\n",
       "      <td>NaN</td>\n",
       "      <td>NaN</td>\n",
       "      <td>NaN</td>\n",
       "    </tr>\n",
       "    <tr>\n",
       "      <th>4</th>\n",
       "      <td>ham</td>\n",
       "      <td>Nah I don't think he goes to usf, he lives aro...</td>\n",
       "      <td>NaN</td>\n",
       "      <td>NaN</td>\n",
       "      <td>NaN</td>\n",
       "    </tr>\n",
       "  </tbody>\n",
       "</table>\n",
       "</div>"
      ],
      "text/plain": [
       "     v1                                                 v2 Unnamed: 2  \\\n",
       "0   ham  Go until jurong point, crazy.. Available only ...        NaN   \n",
       "1   ham                      Ok lar... Joking wif u oni...        NaN   \n",
       "2  spam  Free entry in 2 a wkly comp to win FA Cup fina...        NaN   \n",
       "3   ham  U dun say so early hor... U c already then say...        NaN   \n",
       "4   ham  Nah I don't think he goes to usf, he lives aro...        NaN   \n",
       "\n",
       "  Unnamed: 3 Unnamed: 4  \n",
       "0        NaN        NaN  \n",
       "1        NaN        NaN  \n",
       "2        NaN        NaN  \n",
       "3        NaN        NaN  \n",
       "4        NaN        NaN  "
      ]
     },
     "execution_count": 3,
     "metadata": {},
     "output_type": "execute_result"
    }
   ],
   "source": [
    "df.head() # an overview "
   ]
  },
  {
   "cell_type": "code",
   "execution_count": 4,
   "id": "9bc2ea7f",
   "metadata": {
    "execution": {
     "iopub.execute_input": "2022-02-14T07:56:52.391902Z",
     "iopub.status.busy": "2022-02-14T07:56:52.391640Z",
     "iopub.status.idle": "2022-02-14T07:56:52.406260Z",
     "shell.execute_reply": "2022-02-14T07:56:52.405414Z",
     "shell.execute_reply.started": "2022-02-14T07:56:52.391868Z"
    }
   },
   "outputs": [
    {
     "data": {
      "text/html": [
       "<div>\n",
       "<style scoped>\n",
       "    .dataframe tbody tr th:only-of-type {\n",
       "        vertical-align: middle;\n",
       "    }\n",
       "\n",
       "    .dataframe tbody tr th {\n",
       "        vertical-align: top;\n",
       "    }\n",
       "\n",
       "    .dataframe thead th {\n",
       "        text-align: right;\n",
       "    }\n",
       "</style>\n",
       "<table border=\"1\" class=\"dataframe\">\n",
       "  <thead>\n",
       "    <tr style=\"text-align: right;\">\n",
       "      <th></th>\n",
       "      <th>label</th>\n",
       "      <th>Text</th>\n",
       "      <th>label_in_num</th>\n",
       "    </tr>\n",
       "  </thead>\n",
       "  <tbody>\n",
       "    <tr>\n",
       "      <th>0</th>\n",
       "      <td>ham</td>\n",
       "      <td>Go until jurong point, crazy.. Available only ...</td>\n",
       "      <td>0</td>\n",
       "    </tr>\n",
       "    <tr>\n",
       "      <th>1</th>\n",
       "      <td>ham</td>\n",
       "      <td>Ok lar... Joking wif u oni...</td>\n",
       "      <td>0</td>\n",
       "    </tr>\n",
       "    <tr>\n",
       "      <th>2</th>\n",
       "      <td>spam</td>\n",
       "      <td>Free entry in 2 a wkly comp to win FA Cup fina...</td>\n",
       "      <td>1</td>\n",
       "    </tr>\n",
       "    <tr>\n",
       "      <th>3</th>\n",
       "      <td>ham</td>\n",
       "      <td>U dun say so early hor... U c already then say...</td>\n",
       "      <td>0</td>\n",
       "    </tr>\n",
       "    <tr>\n",
       "      <th>4</th>\n",
       "      <td>ham</td>\n",
       "      <td>Nah I don't think he goes to usf, he lives aro...</td>\n",
       "      <td>0</td>\n",
       "    </tr>\n",
       "  </tbody>\n",
       "</table>\n",
       "</div>"
      ],
      "text/plain": [
       "  label                                               Text  label_in_num\n",
       "0   ham  Go until jurong point, crazy.. Available only ...             0\n",
       "1   ham                      Ok lar... Joking wif u oni...             0\n",
       "2  spam  Free entry in 2 a wkly comp to win FA Cup fina...             1\n",
       "3   ham  U dun say so early hor... U c already then say...             0\n",
       "4   ham  Nah I don't think he goes to usf, he lives aro...             0"
      ]
     },
     "execution_count": 4,
     "metadata": {},
     "output_type": "execute_result"
    }
   ],
   "source": [
    "df = df.drop(['Unnamed: 2', 'Unnamed: 3', 'Unnamed: 4'], axis=1)\n",
    "df = df.rename(columns={'v1':'label', 'v2':'Text'})\n",
    "df['label_in_num'] = df['label'].map({'ham':0,'spam':1})\n",
    "df.head()"
   ]
  },
  {
   "cell_type": "markdown",
   "id": "4142c70e",
   "metadata": {},
   "source": [
    "Analysis of Data"
   ]
  },
  {
   "cell_type": "code",
   "execution_count": 5,
   "id": "2c3956b0",
   "metadata": {
    "execution": {
     "iopub.execute_input": "2022-02-14T07:56:52.408077Z",
     "iopub.status.busy": "2022-02-14T07:56:52.407785Z",
     "iopub.status.idle": "2022-02-14T07:56:52.583849Z",
     "shell.execute_reply": "2022-02-14T07:56:52.582978Z",
     "shell.execute_reply.started": "2022-02-14T07:56:52.408028Z"
    }
   },
   "outputs": [
    {
     "data": {
      "text/plain": [
       "<AxesSubplot:xlabel='label', ylabel='count'>"
      ]
     },
     "execution_count": 5,
     "metadata": {},
     "output_type": "execute_result"
    },
    {
     "data": {
      "image/png": "[encoded data removed]",
      "text/plain": [
       "<Figure size 432x288 with 1 Axes>"
      ]
     },
     "metadata": {
      "needs_background": "light"
     },
     "output_type": "display_data"
    }
   ],
   "source": [
    "sns.countplot(x=df['label']) # countplot for label"
   ]
  },
  {
   "cell_type": "code",
   "execution_count": 6,
   "id": "e3d654db",
   "metadata": {
    "execution": {
     "iopub.execute_input": "2022-02-14T07:56:52.585592Z",
     "iopub.status.busy": "2022-02-14T07:56:52.585353Z",
     "iopub.status.idle": "2022-02-14T07:56:52.595300Z",
     "shell.execute_reply": "2022-02-14T07:56:52.594508Z",
     "shell.execute_reply.started": "2022-02-14T07:56:52.585558Z"
    }
   },
   "outputs": [
    {
     "data": {
      "text/plain": [
       "ham     4825\n",
       "spam     747\n",
       "Name: label, dtype: int64"
      ]
     },
     "execution_count": 6,
     "metadata": {},
     "output_type": "execute_result"
    }
   ],
   "source": [
    "df['label'].value_counts()"
   ]
  },
  {
   "cell_type": "code",
   "execution_count": 7,
   "id": "e5b6344b",
   "metadata": {
    "execution": {
     "iopub.execute_input": "2022-02-14T07:56:52.597340Z",
     "iopub.status.busy": "2022-02-14T07:56:52.596876Z",
     "iopub.status.idle": "2022-02-14T07:56:56.905063Z",
     "shell.execute_reply": "2022-02-14T07:56:56.904387Z",
     "shell.execute_reply.started": "2022-02-14T07:56:52.597305Z"
    }
   },
   "outputs": [
    {
     "data": {
      "text/plain": [
       "Text(0.5, 0, 'Text length')"
      ]
     },
     "execution_count": 7,
     "metadata": {},
     "output_type": "execute_result"
    },
    {
     "data": {
      "image/png": "[encoded data removed]",
      "text/plain": [
       "<Figure size 432x288 with 1 Axes>"
      ]
     },
     "metadata": {
      "needs_background": "light"
     },
     "output_type": "display_data"
    }
   ],
   "source": [
    "sns.countplot(x=[len(df.loc[i]['Text']) for i in range(len(df))])\n",
    "plt.xlabel('Text length')"
   ]
  },
  {
   "cell_type": "markdown",
   "id": "d3484e0a",
   "metadata": {},
   "source": [
    "In order to find the; \n",
    "* number of words in the whole dataset\n",
    "* mean of word count in every row\n",
    "* total words in dataset\n",
    "\n",
    "We use:"
   ]
  },
  {
   "cell_type": "code",
   "execution_count": 8,
   "id": "14dceb14",
   "metadata": {
    "execution": {
     "iopub.execute_input": "2022-02-14T07:56:56.906811Z",
     "iopub.status.busy": "2022-02-14T07:56:56.906393Z",
     "iopub.status.idle": "2022-02-14T07:56:57.547333Z",
     "shell.execute_reply": "2022-02-14T07:56:57.546527Z",
     "shell.execute_reply.started": "2022-02-14T07:56:56.906771Z"
    }
   },
   "outputs": [
    {
     "name": "stdout",
     "output_type": "stream",
     "text": [
      "we have 86335 words in our Dataframe\n",
      "the average word count in every scentence is 15\n"
     ]
    },
    {
     "data": {
      "text/plain": [
       "([20, 6, 28, 11, 13], 86335, 15)"
      ]
     },
     "execution_count": 8,
     "metadata": {},
     "output_type": "execute_result"
    }
   ],
   "source": [
    "text_words_lengths = [len(df.loc[i]['Text'].split()) for i in range(0, len(df))]\n",
    "total_length = np.sum(text_words_lengths)\n",
    "text_words_mean = int(np.mean(text_words_lengths))\n",
    "print('we have ' + str(total_length) + ' words in our Dataframe')\n",
    "print('the average word count in every scentence is ' + str(text_words_mean))\n",
    "text_words_lengths[:5], total_length, text_words_mean"
   ]
  },
  {
   "cell_type": "markdown",
   "id": "d9879649",
   "metadata": {},
   "source": [
    "We then train_test_split"
   ]
  },
  {
   "cell_type": "code",
   "execution_count": 9,
   "id": "d9a28097",
   "metadata": {
    "execution": {
     "iopub.execute_input": "2022-02-14T07:56:57.549404Z",
     "iopub.status.busy": "2022-02-14T07:56:57.548852Z",
     "iopub.status.idle": "2022-02-14T07:56:57.778774Z",
     "shell.execute_reply": "2022-02-14T07:56:57.778075Z",
     "shell.execute_reply.started": "2022-02-14T07:56:57.549357Z"
    }
   },
   "outputs": [
    {
     "data": {
      "text/plain": [
       "(4457,\n",
       " 1115,\n",
       " array(['Kallis wont bat in 2nd innings.',\n",
       "        'Ringtone Club: Get the UK singles chart on your mobile each week and choose any top quality ringtone! This message is free of charge.'],\n",
       "       dtype=object),\n",
       " array([0, 1], dtype=int64))"
      ]
     },
     "execution_count": 9,
     "metadata": {},
     "output_type": "execute_result"
    }
   ],
   "source": [
    "from sklearn.model_selection import train_test_split\n",
    "\n",
    "X, y = np.asanyarray(df['Text']), np.asanyarray(df['label_in_num'])\n",
    "\n",
    "X_train, X_test, y_train, y_test = train_test_split(X, y, test_size=0.2, random_state=24)\n",
    "len(X_train), len(X_test), X_train[:2], y_train[:2]"
   ]
  },
  {
   "cell_type": "markdown",
   "id": "ceb96242",
   "metadata": {},
   "source": [
    "Random Forest"
   ]
  },
  {
   "cell_type": "code",
   "execution_count": 10,
   "id": "7c5b5103",
   "metadata": {
    "execution": {
     "iopub.execute_input": "2022-02-14T07:56:57.780508Z",
     "iopub.status.busy": "2022-02-14T07:56:57.780099Z",
     "iopub.status.idle": "2022-02-14T07:57:00.224483Z",
     "shell.execute_reply": "2022-02-14T07:57:00.223714Z",
     "shell.execute_reply.started": "2022-02-14T07:56:57.780471Z"
    }
   },
   "outputs": [
    {
     "name": "stdout",
     "output_type": "stream",
     "text": [
      "              precision    recall  f1-score   support\n",
      "\n",
      "           0       0.98      1.00      0.99       971\n",
      "           1       1.00      0.84      0.91       144\n",
      "\n",
      "    accuracy                           0.98      1115\n",
      "   macro avg       0.99      0.92      0.95      1115\n",
      "weighted avg       0.98      0.98      0.98      1115\n",
      "\n"
     ]
    }
   ],
   "source": [
    "from sklearn.feature_extraction.text import TfidfVectorizer\n",
    "from sklearn.ensemble import RandomForestClassifier\n",
    "from sklearn.metrics import classification_report, accuracy_score\n",
    "\n",
    "# TFIDF preprocessing the text data\n",
    "\n",
    "tfidf_vec = TfidfVectorizer().fit(X_train)\n",
    "X_train_vec, X_test_vec = tfidf_vec.transform(X_train), tfidf_vec.transform(X_test)\n",
    "baseline_model = RandomForestClassifier(n_estimators=250)\n",
    "baseline_model.fit(X_train_vec, y_train)\n",
    "\n",
    "random_forest_accuracy = accuracy_score(y_test, baseline_model.predict(X_test_vec))\n",
    "print(classification_report(y_test, baseline_model.predict(X_test_vec)))"
   ]
  },
  {
   "cell_type": "code",
   "execution_count": 11,
   "id": "4f3c96ad",
   "metadata": {
    "execution": {
     "iopub.execute_input": "2022-02-14T07:57:00.226255Z",
     "iopub.status.busy": "2022-02-14T07:57:00.225829Z",
     "iopub.status.idle": "2022-02-14T07:57:00.529645Z",
     "shell.execute_reply": "2022-02-14T07:57:00.528956Z",
     "shell.execute_reply.started": "2022-02-14T07:57:00.226217Z"
    }
   },
   "outputs": [
    {
     "name": "stderr",
     "output_type": "stream",
     "text": [
      "C:\\Users\\USER\\anaconda3\\lib\\site-packages\\sklearn\\utils\\deprecation.py:87: FutureWarning: Function plot_confusion_matrix is deprecated; Function `plot_confusion_matrix` is deprecated in 1.0 and will be removed in 1.2. Use one of the class methods: ConfusionMatrixDisplay.from_predictions or ConfusionMatrixDisplay.from_estimator.\n",
      "  warnings.warn(msg, category=FutureWarning)\n"
     ]
    },
    {
     "data": {
      "text/plain": [
       "<sklearn.metrics._plot.confusion_matrix.ConfusionMatrixDisplay at 0x1d5630270d0>"
      ]
     },
     "execution_count": 11,
     "metadata": {},
     "output_type": "execute_result"
    },
    {
     "data": {
      "image/png": "[encoded data removed]",
      "text/plain": [
       "<Figure size 432x288 with 2 Axes>"
      ]
     },
     "metadata": {
      "needs_background": "light"
     },
     "output_type": "display_data"
    }
   ],
   "source": [
    "# confusino matrix for baseline model\n",
    "\n",
    "\n",
    "from sklearn.metrics import plot_confusion_matrix\n",
    "\n",
    "plot_confusion_matrix(baseline_model, X_test_vec, y_test)"
   ]
  },
  {
   "cell_type": "markdown",
   "id": "f5f4ea8d",
   "metadata": {},
   "source": [
    "Text Vectorization and Word Embedding"
   ]
  },
  {
   "cell_type": "code",
   "execution_count": 12,
   "id": "e6ea2edc",
   "metadata": {
    "execution": {
     "iopub.execute_input": "2022-02-14T07:57:00.532650Z",
     "iopub.status.busy": "2022-02-14T07:57:00.530889Z",
     "iopub.status.idle": "2022-02-14T07:57:01.830064Z",
     "shell.execute_reply": "2022-02-14T07:57:01.829246Z",
     "shell.execute_reply.started": "2022-02-14T07:57:00.532606Z"
    }
   },
   "outputs": [],
   "source": [
    "MAXTOKENS = total_length\n",
    "OUTPUTLEN = text_words_mean\n",
    "\n",
    "text_vec = layers.TextVectorization(\n",
    "    max_tokens=MAXTOKENS,\n",
    "    standardize='lower_and_strip_punctuation',\n",
    "    output_mode='int',\n",
    "    output_sequence_length=OUTPUTLEN\n",
    ")\n",
    "\n",
    "text_vec.adapt(X_train)"
   ]
  },
  {
   "cell_type": "code",
   "execution_count": 13,
   "id": "15f3de05",
   "metadata": {
    "execution": {
     "iopub.execute_input": "2022-02-14T07:57:01.834229Z",
     "iopub.status.busy": "2022-02-14T07:57:01.833998Z",
     "iopub.status.idle": "2022-02-14T07:57:01.840284Z",
     "shell.execute_reply": "2022-02-14T07:57:01.839017Z",
     "shell.execute_reply.started": "2022-02-14T07:57:01.834201Z"
    }
   },
   "outputs": [],
   "source": [
    "embedding_layer = layers.Embedding(\n",
    "    input_dim=MAXTOKENS,\n",
    "    output_dim=128,\n",
    "    embeddings_initializer='uniform',\n",
    "    input_length=OUTPUTLEN\n",
    ")"
   ]
  },
  {
   "cell_type": "markdown",
   "id": "99b6da33",
   "metadata": {},
   "source": [
    "Model 1\n",
    "\n",
    "Using our custom layers with 2 Dense layers"
   ]
  },
  {
   "cell_type": "code",
   "execution_count": 14,
   "id": "9541555e",
   "metadata": {
    "execution": {
     "iopub.execute_input": "2022-02-14T07:57:01.842530Z",
     "iopub.status.busy": "2022-02-14T07:57:01.841553Z",
     "iopub.status.idle": "2022-02-14T07:57:01.907004Z",
     "shell.execute_reply": "2022-02-14T07:57:01.906219Z",
     "shell.execute_reply.started": "2022-02-14T07:57:01.842493Z"
    }
   },
   "outputs": [],
   "source": [
    "# Input layer\n",
    "input_layer = layers.Input(shape=(1,), dtype=tf.string)\n",
    "# Text Vectorizatino layer\n",
    "vec_layer = text_vec(input_layer)\n",
    "# Embedding layer\n",
    "embedding_layer_model = embedding_layer(vec_layer)\n",
    "# Global Average Pooling layer\n",
    "x = layers.GlobalAveragePooling1D()(embedding_layer_model)\n",
    "# Flatten layer for Dense layers\n",
    "x = layers.Flatten()(x)\n",
    "# 32 units dense layer\n",
    "x = layers.Dense(32, activation='relu')(x)\n",
    "# output layer with sigmoid activation function\n",
    "output_layer = layers.Dense(1, activation='sigmoid')(x)\n",
    "# final model\n",
    "model_1 = keras.Model(input_layer, output_layer)"
   ]
  },
  {
   "cell_type": "code",
   "execution_count": 15,
   "id": "5b319145",
   "metadata": {
    "execution": {
     "iopub.execute_input": "2022-02-14T07:57:01.908440Z",
     "iopub.status.busy": "2022-02-14T07:57:01.908187Z",
     "iopub.status.idle": "2022-02-14T07:57:01.923733Z",
     "shell.execute_reply": "2022-02-14T07:57:01.923042Z",
     "shell.execute_reply.started": "2022-02-14T07:57:01.908399Z"
    }
   },
   "outputs": [],
   "source": [
    "model_1.compile(optimizer=keras.optimizers.Adam(),\n",
    "               loss=keras.losses.BinaryCrossentropy(label_smoothing=0.5),\n",
    "               metrics=['accuracy'])"
   ]
  },
  {
   "cell_type": "code",
   "execution_count": 16,
   "id": "60a42b47",
   "metadata": {
    "execution": {
     "iopub.execute_input": "2022-02-14T07:57:01.926600Z",
     "iopub.status.busy": "2022-02-14T07:57:01.926401Z",
     "iopub.status.idle": "2022-02-14T07:57:12.717708Z",
     "shell.execute_reply": "2022-02-14T07:57:12.716926Z",
     "shell.execute_reply.started": "2022-02-14T07:57:01.926576Z"
    }
   },
   "outputs": [
    {
     "name": "stdout",
     "output_type": "stream",
     "text": [
      "Epoch 1/5\n",
      "140/140 [==============================] - 14s 94ms/step - loss: 0.6030 - accuracy: 0.9177 - val_loss: 0.5751 - val_accuracy: 0.9776\n",
      "Epoch 2/5\n",
      "140/140 [==============================] - 13s 94ms/step - loss: 0.5700 - accuracy: 0.9879 - val_loss: 0.5717 - val_accuracy: 0.9865\n",
      "Epoch 3/5\n",
      "140/140 [==============================] - 13s 94ms/step - loss: 0.5659 - accuracy: 0.9953 - val_loss: 0.5715 - val_accuracy: 0.9865\n",
      "Epoch 4/5\n",
      "140/140 [==============================] - 13s 95ms/step - loss: 0.5643 - accuracy: 0.9978 - val_loss: 0.5717 - val_accuracy: 0.9857\n",
      "Epoch 5/5\n",
      "140/140 [==============================] - 13s 96ms/step - loss: 0.5635 - accuracy: 0.9987 - val_loss: 0.5715 - val_accuracy: 0.9830\n"
     ]
    }
   ],
   "source": [
    "history_1 = model_1.fit(X_train,\n",
    "           y_train,\n",
    "           epochs=5,\n",
    "           validation_data=(X_test, y_test),\n",
    "           validation_steps=int(0.2 * len(X_test)))"
   ]
  },
  {
   "cell_type": "code",
   "execution_count": 17,
   "id": "605a7e7c",
   "metadata": {
    "execution": {
     "iopub.execute_input": "2022-02-14T07:57:12.719925Z",
     "iopub.status.busy": "2022-02-14T07:57:12.719557Z",
     "iopub.status.idle": "2022-02-14T07:57:12.956700Z",
     "shell.execute_reply": "2022-02-14T07:57:12.956011Z",
     "shell.execute_reply.started": "2022-02-14T07:57:12.719879Z"
    }
   },
   "outputs": [
    {
     "data": {
      "text/plain": [
       "<AxesSubplot:>"
      ]
     },
     "execution_count": 17,
     "metadata": {},
     "output_type": "execute_result"
    },
    {
     "data": {
      "image/png": "[encoded data removed]",
      "text/plain": [
       "<Figure size 432x288 with 1 Axes>"
      ]
     },
     "metadata": {
      "needs_background": "light"
     },
     "output_type": "display_data"
    }
   ],
   "source": [
    "pd.DataFrame(history_1.history).plot()"
   ]
  },
  {
   "cell_type": "markdown",
   "id": "01303a12",
   "metadata": {},
   "source": [
    "compile_model(), fit_model(), evaluate_model():\n",
    "To compile, fit and evaluate for a few models, this method is able to easily reuse the code over and over."
   ]
  },
  {
   "cell_type": "code",
   "execution_count": 18,
   "id": "12a538d3",
   "metadata": {
    "execution": {
     "iopub.execute_input": "2022-02-14T07:57:12.958692Z",
     "iopub.status.busy": "2022-02-14T07:57:12.958208Z",
     "iopub.status.idle": "2022-02-14T07:57:12.965982Z",
     "shell.execute_reply": "2022-02-14T07:57:12.965213Z",
     "shell.execute_reply.started": "2022-02-14T07:57:12.958653Z"
    }
   },
   "outputs": [],
   "source": [
    "def compile_model(model):\n",
    "    '''\n",
    "    simply compile the model with adam optimzer\n",
    "    '''\n",
    "    model.compile(optimizer=keras.optimizers.Adam(),\n",
    "                 loss=keras.losses.BinaryCrossentropy(),\n",
    "                 metrics=['accuracy'])    \n",
    "\n",
    "def fit_model(model, epochs, X_train=X_train, y_train=y_train, X_test=X_test, y_test=y_test):\n",
    "    '''\n",
    "    fit the model with given epochs, train and test data\n",
    "    '''\n",
    "    history = model.fit(X_train,\n",
    "              y_train,\n",
    "             epochs=epochs,\n",
    "             validation_data=(X_test, y_test),\n",
    "             validation_steps=int(0.2*len(X_test)))\n",
    "    return history\n",
    " "
   ]
  },
  {
   "cell_type": "code",
   "execution_count": 19,
   "id": "5aaf2bec",
   "metadata": {
    "execution": {
     "iopub.execute_input": "2022-02-14T07:57:12.967406Z",
     "iopub.status.busy": "2022-02-14T07:57:12.967115Z",
     "iopub.status.idle": "2022-02-14T07:57:12.976454Z",
     "shell.execute_reply": "2022-02-14T07:57:12.975646Z",
     "shell.execute_reply.started": "2022-02-14T07:57:12.967359Z"
    }
   },
   "outputs": [],
   "source": [
    "from sklearn.metrics import precision_score, recall_score, f1_score\n",
    "\n",
    "def evaluate_model(model, X, y):\n",
    "    '''\n",
    "    evaluate the model and returns accuracy, precision, recall and f1-score \n",
    "    '''\n",
    "    y_preds = np.round(model.predict(X))\n",
    "    accuracy = accuracy_score(y, y_preds)\n",
    "    precision = precision_score(y, y_preds)\n",
    "    recall = recall_score(y, y_preds)\n",
    "    f1 = f1_score(y, y_preds)\n",
    "    \n",
    "    model_results_dict = {'accuracy':accuracy,\n",
    "                         'precision':precision,\n",
    "                         'recall':recall,\n",
    "                         'f1-score':f1}\n",
    "    \n",
    "    return model_results_dict"
   ]
  },
  {
   "cell_type": "markdown",
   "id": "d4146434",
   "metadata": {},
   "source": [
    "Model 2\n",
    "\n",
    "Bidirectional LSTM "
   ]
  },
  {
   "cell_type": "code",
   "execution_count": 20,
   "id": "ac77e11a",
   "metadata": {
    "execution": {
     "iopub.execute_input": "2022-02-14T07:57:12.978701Z",
     "iopub.status.busy": "2022-02-14T07:57:12.977629Z",
     "iopub.status.idle": "2022-02-14T07:57:13.782797Z",
     "shell.execute_reply": "2022-02-14T07:57:13.782066Z",
     "shell.execute_reply.started": "2022-02-14T07:57:12.978638Z"
    }
   },
   "outputs": [],
   "source": [
    "input_layer = layers.Input(shape=(1,), dtype=tf.string) # Input layer, string type(text)\n",
    "vec_layer = text_vec(input_layer) # text vectorization layer(built previous lines)\n",
    "embedding_layer_model = embedding_layer(vec_layer) # word embedding layer\n",
    "bi_lstm = layers.Bidirectional(layers.LSTM(64, activation='tanh', return_sequences=True))(embedding_layer_model) # Bidirectional-LSTM, 64 units\n",
    "lstm = layers.Bidirectional(layers.LSTM(64))(bi_lstm)\n",
    "flatten = layers.Flatten()(lstm) # Flatten layer for enering in dense layers\n",
    "dropout = layers.Dropout(.1)(flatten) # drop out layer\n",
    "x = layers.Dense(32, activation='relu')(dropout) # Dense layer\n",
    "output_layer = layers.Dense(1, activation='sigmoid')(x) # output layer\n",
    "model_2 = keras.Model(input_layer, output_layer) # final model"
   ]
  },
  {
   "cell_type": "code",
   "execution_count": 21,
   "id": "b860a14f",
   "metadata": {
    "execution": {
     "iopub.execute_input": "2022-02-14T07:57:13.784312Z",
     "iopub.status.busy": "2022-02-14T07:57:13.784056Z",
     "iopub.status.idle": "2022-02-14T07:57:38.955420Z",
     "shell.execute_reply": "2022-02-14T07:57:38.954587Z",
     "shell.execute_reply.started": "2022-02-14T07:57:13.784279Z"
    }
   },
   "outputs": [
    {
     "name": "stdout",
     "output_type": "stream",
     "text": [
      "Epoch 1/5\n",
      "140/140 [==============================] - 27s 137ms/step - loss: 0.0630 - accuracy: 0.9767 - val_loss: 0.0646 - val_accuracy: 0.9848\n",
      "Epoch 2/5\n",
      "140/140 [==============================] - 17s 124ms/step - loss: 0.0020 - accuracy: 0.9993 - val_loss: 0.0731 - val_accuracy: 0.9874\n",
      "Epoch 3/5\n",
      "140/140 [==============================] - 18s 126ms/step - loss: 2.2425e-04 - accuracy: 1.0000 - val_loss: 0.1138 - val_accuracy: 0.9821\n",
      "Epoch 4/5\n",
      "140/140 [==============================] - 18s 128ms/step - loss: 2.7322e-05 - accuracy: 1.0000 - val_loss: 0.1181 - val_accuracy: 0.9839\n",
      "Epoch 5/5\n",
      "140/140 [==============================] - 21s 153ms/step - loss: 1.6422e-05 - accuracy: 1.0000 - val_loss: 0.1221 - val_accuracy: 0.9839\n"
     ]
    }
   ],
   "source": [
    "compile_model(model_2) # compile the model\n",
    "\n",
    "history_2 = fit_model(model_2, epochs=5) # fit the model"
   ]
  },
  {
   "cell_type": "code",
   "execution_count": 22,
   "id": "9eae2f5b",
   "metadata": {
    "execution": {
     "iopub.execute_input": "2022-02-14T07:57:38.957306Z",
     "iopub.status.busy": "2022-02-14T07:57:38.957023Z",
     "iopub.status.idle": "2022-02-14T07:57:40.308890Z",
     "shell.execute_reply": "2022-02-14T07:57:40.308082Z",
     "shell.execute_reply.started": "2022-02-14T07:57:38.957269Z"
    }
   },
   "outputs": [
    {
     "name": "stdout",
     "output_type": "stream",
     "text": [
      "35/35 [==============================] - 4s 8ms/step - loss: 0.1221 - accuracy: 0.9839\n"
     ]
    },
    {
     "data": {
      "text/plain": [
       "[0.12214083224534988, 0.9838564991950989]"
      ]
     },
     "execution_count": 22,
     "metadata": {},
     "output_type": "execute_result"
    }
   ],
   "source": [
    "# evaluating the model\n",
    "model_2.evaluate(X_test, y_test)"
   ]
  },
  {
   "cell_type": "markdown",
   "id": "66104956",
   "metadata": {},
   "source": [
    "Model 3\n",
    "\n",
    "Transfer learning with USE encoder "
   ]
  },
  {
   "cell_type": "code",
   "execution_count": 23,
   "id": "ca22a3b1",
   "metadata": {
    "execution": {
     "iopub.execute_input": "2022-02-14T07:57:40.310672Z",
     "iopub.status.busy": "2022-02-14T07:57:40.310422Z",
     "iopub.status.idle": "2022-02-14T07:57:45.899542Z",
     "shell.execute_reply": "2022-02-14T07:57:45.898747Z",
     "shell.execute_reply.started": "2022-02-14T07:57:40.310638Z"
    }
   },
   "outputs": [
    {
     "name": "stdout",
     "output_type": "stream",
     "text": [
      "WARNING:tensorflow:Please fix your imports. Module tensorflow.python.training.tracking.data_structures has been moved to tensorflow.python.trackable.data_structures. The old module will be deleted in version 2.11.\n"
     ]
    }
   ],
   "source": [
    "import tensorflow_hub as hub\n",
    "\n",
    "# model with Sequential api\n",
    "model_3 = keras.Sequential()\n",
    "# universal-sentence-encoder layer directly from tfhub\n",
    "use_layer = hub.KerasLayer(\"https://tfhub.dev/google/universal-sentence-encoder/4\",\n",
    "                           trainable=False,\n",
    "                           input_shape=[],\n",
    "                           dtype=tf.string,\n",
    "                           name='USE')\n",
    "model_3.add(use_layer)\n",
    "model_3.add(layers.Dropout(0.2))\n",
    "model_3.add(layers.Dense(64, activation=keras.activations.relu))\n",
    "model_3.add(layers.Dense(1, activation=keras.activations.sigmoid))"
   ]
  },
  {
   "cell_type": "markdown",
   "id": "6c7ebdab",
   "metadata": {},
   "source": [
    "Compile and Fit the model using our Helper functions"
   ]
  },
  {
   "cell_type": "code",
   "execution_count": 24,
   "id": "5a280258",
   "metadata": {
    "execution": {
     "iopub.execute_input": "2022-02-14T07:57:45.902780Z",
     "iopub.status.busy": "2022-02-14T07:57:45.900667Z",
     "iopub.status.idle": "2022-02-14T07:58:04.761965Z",
     "shell.execute_reply": "2022-02-14T07:58:04.761217Z",
     "shell.execute_reply.started": "2022-02-14T07:57:45.902735Z"
    }
   },
   "outputs": [
    {
     "name": "stdout",
     "output_type": "stream",
     "text": [
      "Epoch 1/5\n",
      "140/140 [==============================] - 6s 18ms/step - loss: 0.2995 - accuracy: 0.9123 - val_loss: 0.1012 - val_accuracy: 0.9785\n",
      "Epoch 2/5\n",
      "140/140 [==============================] - 2s 13ms/step - loss: 0.0853 - accuracy: 0.9773 - val_loss: 0.0588 - val_accuracy: 0.9874\n",
      "Epoch 3/5\n",
      "140/140 [==============================] - 2s 13ms/step - loss: 0.0585 - accuracy: 0.9823 - val_loss: 0.0503 - val_accuracy: 0.9857\n",
      "Epoch 4/5\n",
      "140/140 [==============================] - 2s 13ms/step - loss: 0.0484 - accuracy: 0.9863 - val_loss: 0.0450 - val_accuracy: 0.9874\n",
      "Epoch 5/5\n",
      "140/140 [==============================] - 2s 16ms/step - loss: 0.0421 - accuracy: 0.9888 - val_loss: 0.0432 - val_accuracy: 0.9848\n"
     ]
    }
   ],
   "source": [
    "compile_model(model_3)\n",
    "\n",
    "history_3 = fit_model(model_3, epochs=5)"
   ]
  },
  {
   "cell_type": "markdown",
   "id": "e5a7538a",
   "metadata": {},
   "source": [
    "Comparing Models Result"
   ]
  },
  {
   "cell_type": "code",
   "execution_count": 25,
   "id": "fbfa1127",
   "metadata": {
    "execution": {
     "iopub.execute_input": "2022-02-14T07:58:04.763970Z",
     "iopub.status.busy": "2022-02-14T07:58:04.763704Z",
     "iopub.status.idle": "2022-02-14T07:58:06.973074Z",
     "shell.execute_reply": "2022-02-14T07:58:06.972380Z",
     "shell.execute_reply.started": "2022-02-14T07:58:04.763934Z"
    }
   },
   "outputs": [
    {
     "name": "stdout",
     "output_type": "stream",
     "text": [
      "35/35 [==============================] - 1s 2ms/step\n",
      "35/35 [==============================] - 2s 9ms/step\n",
      "35/35 [==============================] - 1s 8ms/step\n"
     ]
    },
    {
     "data": {
      "text/html": [
       "<div>\n",
       "<style scoped>\n",
       "    .dataframe tbody tr th:only-of-type {\n",
       "        vertical-align: middle;\n",
       "    }\n",
       "\n",
       "    .dataframe tbody tr th {\n",
       "        vertical-align: top;\n",
       "    }\n",
       "\n",
       "    .dataframe thead th {\n",
       "        text-align: right;\n",
       "    }\n",
       "</style>\n",
       "<table border=\"1\" class=\"dataframe\">\n",
       "  <thead>\n",
       "    <tr style=\"text-align: right;\">\n",
       "      <th></th>\n",
       "      <th>accuracy</th>\n",
       "      <th>precision</th>\n",
       "      <th>recall</th>\n",
       "      <th>f1-score</th>\n",
       "    </tr>\n",
       "  </thead>\n",
       "  <tbody>\n",
       "    <tr>\n",
       "      <th>Random-Forest Model</th>\n",
       "      <td>0.979372</td>\n",
       "      <td>1.000000</td>\n",
       "      <td>0.840278</td>\n",
       "      <td>0.913208</td>\n",
       "    </tr>\n",
       "    <tr>\n",
       "      <th>Custom-Vec-Embedding Model</th>\n",
       "      <td>0.983857</td>\n",
       "      <td>0.977273</td>\n",
       "      <td>0.895833</td>\n",
       "      <td>0.934783</td>\n",
       "    </tr>\n",
       "    <tr>\n",
       "      <th>Bidirectional-LSTM Model</th>\n",
       "      <td>0.983857</td>\n",
       "      <td>0.992188</td>\n",
       "      <td>0.881944</td>\n",
       "      <td>0.933824</td>\n",
       "    </tr>\n",
       "    <tr>\n",
       "      <th>USE-Transfer learning Model</th>\n",
       "      <td>0.984753</td>\n",
       "      <td>0.937931</td>\n",
       "      <td>0.944444</td>\n",
       "      <td>0.941176</td>\n",
       "    </tr>\n",
       "  </tbody>\n",
       "</table>\n",
       "</div>"
      ],
      "text/plain": [
       "                             accuracy  precision    recall  f1-score\n",
       "Random-Forest Model          0.979372   1.000000  0.840278  0.913208\n",
       "Custom-Vec-Embedding Model   0.983857   0.977273  0.895833  0.934783\n",
       "Bidirectional-LSTM Model     0.983857   0.992188  0.881944  0.933824\n",
       "USE-Transfer learning Model  0.984753   0.937931  0.944444  0.941176"
      ]
     },
     "execution_count": 25,
     "metadata": {},
     "output_type": "execute_result"
    }
   ],
   "source": [
    "baseline_model_results = evaluate_model(baseline_model, X_test_vec, y_test)\n",
    "model_1_results = evaluate_model(model_1, X_test, y_test)\n",
    "model_2_results = evaluate_model(model_2, X_test, y_test)\n",
    "model_3_results = evaluate_model(model_3, X_test, y_test)\n",
    "\n",
    "total_results = pd.DataFrame({'Random-Forest Model':baseline_model_results,\n",
    "                             'Custom-Vec-Embedding Model':model_1_results,\n",
    "                             'Bidirectional-LSTM Model':model_2_results,\n",
    "                             'USE-Transfer learning Model':model_3_results}).transpose()\n",
    "\n",
    "total_results"
   ]
  },
  {
   "cell_type": "code",
   "execution_count": 26,
   "id": "71c42fba",
   "metadata": {
    "execution": {
     "iopub.execute_input": "2022-02-14T07:58:06.974726Z",
     "iopub.status.busy": "2022-02-14T07:58:06.974477Z",
     "iopub.status.idle": "2022-02-14T07:58:07.223843Z",
     "shell.execute_reply": "2022-02-14T07:58:07.223046Z",
     "shell.execute_reply.started": "2022-02-14T07:58:06.974693Z"
    }
   },
   "outputs": [
    {
     "data": {
      "text/plain": [
       "<AxesSubplot:>"
      ]
     },
     "execution_count": 26,
     "metadata": {},
     "output_type": "execute_result"
    },
    {
     "data": {
      "image/png": "[encoded data removed]",
      "text/plain": [
       "<Figure size 864x576 with 1 Axes>"
      ]
     },
     "metadata": {
      "needs_background": "light"
     },
     "output_type": "display_data"
    }
   ],
   "source": [
    "total_results.plot(figsize=(12, 8))"
   ]
  },
  {
   "cell_type": "code",
   "execution_count": 27,
   "id": "f19e019b",
   "metadata": {
    "execution": {
     "iopub.execute_input": "2022-02-14T07:58:07.225883Z",
     "iopub.status.busy": "2022-02-14T07:58:07.225374Z",
     "iopub.status.idle": "2022-02-14T07:58:07.447014Z",
     "shell.execute_reply": "2022-02-14T07:58:07.446235Z",
     "shell.execute_reply.started": "2022-02-14T07:58:07.225838Z"
    }
   },
   "outputs": [
    {
     "data": {
      "text/plain": [
       "<AxesSubplot:>"
      ]
     },
     "execution_count": 27,
     "metadata": {},
     "output_type": "execute_result"
    },
    {
     "data": {
      "image/png": "[encoded data removed]",
      "text/plain": [
       "<Figure size 720x576 with 1 Axes>"
      ]
     },
     "metadata": {
      "needs_background": "light"
     },
     "output_type": "display_data"
    }
   ],
   "source": [
    "total_results['accuracy'].plot(figsize=(10, 8))"
   ]
  },
  {
   "cell_type": "code",
   "execution_count": 28,
   "id": "76bf8fce",
   "metadata": {
    "execution": {
     "iopub.execute_input": "2022-02-14T07:58:07.449329Z",
     "iopub.status.busy": "2022-02-14T07:58:07.448209Z",
     "iopub.status.idle": "2022-02-14T07:58:07.654016Z",
     "shell.execute_reply": "2022-02-14T07:58:07.653299Z",
     "shell.execute_reply.started": "2022-02-14T07:58:07.449286Z"
    }
   },
   "outputs": [
    {
     "data": {
      "text/plain": [
       "<AxesSubplot:>"
      ]
     },
     "execution_count": 28,
     "metadata": {},
     "output_type": "execute_result"
    },
    {
     "data": {
      "image/png": "[encoded data removed]",
      "text/plain": [
       "<Figure size 720x576 with 1 Axes>"
      ]
     },
     "metadata": {
      "needs_background": "light"
     },
     "output_type": "display_data"
    }
   ],
   "source": [
    "total_results['f1-score'].plot(figsize=(10, 8), color='green')"
   ]
  },
  {
   "cell_type": "code",
   "execution_count": 29,
   "id": "7f05d19e",
   "metadata": {
    "execution": {
     "iopub.execute_input": "2022-02-14T07:58:07.655946Z",
     "iopub.status.busy": "2022-02-14T07:58:07.655111Z",
     "iopub.status.idle": "2022-02-14T07:58:07.668803Z",
     "shell.execute_reply": "2022-02-14T07:58:07.668055Z",
     "shell.execute_reply.started": "2022-02-14T07:58:07.655908Z"
    }
   },
   "outputs": [
    {
     "data": {
      "text/html": [
       "<div>\n",
       "<style scoped>\n",
       "    .dataframe tbody tr th:only-of-type {\n",
       "        vertical-align: middle;\n",
       "    }\n",
       "\n",
       "    .dataframe tbody tr th {\n",
       "        vertical-align: top;\n",
       "    }\n",
       "\n",
       "    .dataframe thead th {\n",
       "        text-align: right;\n",
       "    }\n",
       "</style>\n",
       "<table border=\"1\" class=\"dataframe\">\n",
       "  <thead>\n",
       "    <tr style=\"text-align: right;\">\n",
       "      <th></th>\n",
       "      <th>accuracy</th>\n",
       "      <th>precision</th>\n",
       "      <th>recall</th>\n",
       "      <th>f1-score</th>\n",
       "    </tr>\n",
       "  </thead>\n",
       "  <tbody>\n",
       "    <tr>\n",
       "      <th>USE-Transfer learning Model</th>\n",
       "      <td>0.984753</td>\n",
       "      <td>0.937931</td>\n",
       "      <td>0.944444</td>\n",
       "      <td>0.941176</td>\n",
       "    </tr>\n",
       "    <tr>\n",
       "      <th>Custom-Vec-Embedding Model</th>\n",
       "      <td>0.983857</td>\n",
       "      <td>0.977273</td>\n",
       "      <td>0.895833</td>\n",
       "      <td>0.934783</td>\n",
       "    </tr>\n",
       "    <tr>\n",
       "      <th>Bidirectional-LSTM Model</th>\n",
       "      <td>0.983857</td>\n",
       "      <td>0.992188</td>\n",
       "      <td>0.881944</td>\n",
       "      <td>0.933824</td>\n",
       "    </tr>\n",
       "    <tr>\n",
       "      <th>Random-Forest Model</th>\n",
       "      <td>0.979372</td>\n",
       "      <td>1.000000</td>\n",
       "      <td>0.840278</td>\n",
       "      <td>0.913208</td>\n",
       "    </tr>\n",
       "  </tbody>\n",
       "</table>\n",
       "</div>"
      ],
      "text/plain": [
       "                             accuracy  precision    recall  f1-score\n",
       "USE-Transfer learning Model  0.984753   0.937931  0.944444  0.941176\n",
       "Custom-Vec-Embedding Model   0.983857   0.977273  0.895833  0.934783\n",
       "Bidirectional-LSTM Model     0.983857   0.992188  0.881944  0.933824\n",
       "Random-Forest Model          0.979372   1.000000  0.840278  0.913208"
      ]
     },
     "execution_count": 29,
     "metadata": {},
     "output_type": "execute_result"
    }
   ],
   "source": [
    "total_results.sort_values('f1-score', ascending=False)"
   ]
  },
  {
   "cell_type": "code",
   "execution_count": 30,
   "id": "abda0e1f",
   "metadata": {
    "execution": {
     "iopub.execute_input": "2022-02-14T07:58:07.670214Z",
     "iopub.status.busy": "2022-02-14T07:58:07.669924Z",
     "iopub.status.idle": "2022-02-14T07:58:07.681317Z",
     "shell.execute_reply": "2022-02-14T07:58:07.680384Z",
     "shell.execute_reply.started": "2022-02-14T07:58:07.670154Z"
    }
   },
   "outputs": [
    {
     "data": {
      "text/html": [
       "<div>\n",
       "<style scoped>\n",
       "    .dataframe tbody tr th:only-of-type {\n",
       "        vertical-align: middle;\n",
       "    }\n",
       "\n",
       "    .dataframe tbody tr th {\n",
       "        vertical-align: top;\n",
       "    }\n",
       "\n",
       "    .dataframe thead th {\n",
       "        text-align: right;\n",
       "    }\n",
       "</style>\n",
       "<table border=\"1\" class=\"dataframe\">\n",
       "  <thead>\n",
       "    <tr style=\"text-align: right;\">\n",
       "      <th></th>\n",
       "      <th>accuracy</th>\n",
       "      <th>precision</th>\n",
       "      <th>recall</th>\n",
       "      <th>f1-score</th>\n",
       "    </tr>\n",
       "  </thead>\n",
       "  <tbody>\n",
       "    <tr>\n",
       "      <th>USE-Transfer learning Model</th>\n",
       "      <td>0.984753</td>\n",
       "      <td>0.937931</td>\n",
       "      <td>0.944444</td>\n",
       "      <td>0.941176</td>\n",
       "    </tr>\n",
       "    <tr>\n",
       "      <th>Custom-Vec-Embedding Model</th>\n",
       "      <td>0.983857</td>\n",
       "      <td>0.977273</td>\n",
       "      <td>0.895833</td>\n",
       "      <td>0.934783</td>\n",
       "    </tr>\n",
       "    <tr>\n",
       "      <th>Bidirectional-LSTM Model</th>\n",
       "      <td>0.983857</td>\n",
       "      <td>0.992188</td>\n",
       "      <td>0.881944</td>\n",
       "      <td>0.933824</td>\n",
       "    </tr>\n",
       "    <tr>\n",
       "      <th>Random-Forest Model</th>\n",
       "      <td>0.979372</td>\n",
       "      <td>1.000000</td>\n",
       "      <td>0.840278</td>\n",
       "      <td>0.913208</td>\n",
       "    </tr>\n",
       "  </tbody>\n",
       "</table>\n",
       "</div>"
      ],
      "text/plain": [
       "                             accuracy  precision    recall  f1-score\n",
       "USE-Transfer learning Model  0.984753   0.937931  0.944444  0.941176\n",
       "Custom-Vec-Embedding Model   0.983857   0.977273  0.895833  0.934783\n",
       "Bidirectional-LSTM Model     0.983857   0.992188  0.881944  0.933824\n",
       "Random-Forest Model          0.979372   1.000000  0.840278  0.913208"
      ]
     },
     "execution_count": 30,
     "metadata": {},
     "output_type": "execute_result"
    }
   ],
   "source": [
    "total_results.sort_values('accuracy', ascending=False)"
   ]
  },
  {
   "cell_type": "markdown",
   "id": "5f138ffd",
   "metadata": {},
   "source": [
    "The models used has an accuracy of more than 97.00%. It can be considered as overfitting or just accurate. There is an imbalanced dataset, since most of our data has been labeled as ham, the accuracy of the models can not use the results. The best model that was used is the \"f1-score\". "
   ]
  },
  {
   "cell_type": "code",
   "execution_count": 31,
   "id": "2602a0ec",
   "metadata": {},
   "outputs": [],
   "source": [
    "#to download in jupyter and in local storage\n",
    "df.to_csv(\"Austria_Output.csv\")\n",
    "df.to_csv(\"D:\\Downloads\\Austria_Output.csv\")"
   ]
  },
  {
   "cell_type": "code",
   "execution_count": null,
   "id": "308a4f42",
   "metadata": {},
   "outputs": [],
   "source": []
  }
 ],
 "metadata": {
  "kernelspec": {
   "display_name": "Python 3 (ipykernel)",
   "language": "python",
   "name": "python3"
  },
  "language_info": {
   "codemirror_mode": {
    "name": "ipython",
    "version": 3
   },
   "file_extension": ".py",
   "mimetype": "text/x-python",
   "name": "python",
   "nbconvert_exporter": "python",
   "pygments_lexer": "ipython3",
   "version": "3.9.12"
  }
 },
 "nbformat": 4,
 "nbformat_minor": 5
}
